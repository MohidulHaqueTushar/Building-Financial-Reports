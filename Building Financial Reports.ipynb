{
 "cells": [
  {
   "cell_type": "markdown",
   "id": "f156fcc4",
   "metadata": {},
   "source": [
    "## Help your hedge fund manager!\n",
    "\n",
    "Two available datasets are: `Balance_Sheet.xlsx` and `Income_Statement.xlsx`. Both these datasets have three columns in common:\n",
    "- `\"Company\"`: The company's ticker name.\n",
    "- `\"comp_type\"` The type of industry the company in question belongs to. It is either `\"tech\"` for companies in the technology industry, `\"fmcg\"` for companies in the fast-moving consumer goods industry, and `\"real_est\"` for companies in the real estate industry. \n",
    "- `\"Year\"`: The year the company's information is from.\n",
    "\n",
    "The rest of the columns in the datasets contain information from the financial statement of the `\"Company\"` in question. Note that the columns in `Balance_Sheet.xlsx` only contain financial information from the balance sheet. Similarly, the columns in `Income_Statement.xlsx` only contain financial information from the income statement. The columns are named accordingly. For instance, the column `\"Total Liab\"` from `Balance_Sheet.xlsx` is the total liability."
   ]
  },
  {
   "cell_type": "code",
   "execution_count": 10,
   "id": "fd580502",
   "metadata": {},
   "outputs": [],
   "source": [
    "\"\"\"Import necessary modules\"\"\"\n",
    "import numpy as np\n",
    "import pandas as pd\n",
    "import seaborn as sns"
   ]
  },
  {
   "cell_type": "code",
   "execution_count": 11,
   "id": "348a2ab4",
   "metadata": {},
   "outputs": [],
   "source": [
    "\"\"\"Read in the files\"\"\"\n",
    "balance_sheet = pd.read_excel(\"Balance_Sheet.xlsx\")\n",
    "income_statement = pd.read_excel(\"Income_Statement.xlsx\")"
   ]
  },
  {
   "cell_type": "code",
   "execution_count": 12,
   "id": "207bd820",
   "metadata": {},
   "outputs": [],
   "source": [
    "\"\"\"Merge both the dataframes and call it df_ratios\"\"\"\n",
    "df_ratios = pd.merge(income_statement, balance_sheet, on = [\"Year\", \"company\", \"comp_type\"])"
   ]
  },
  {
   "cell_type": "markdown",
   "id": "07c8be12",
   "metadata": {},
   "source": [
    "**Need to compute one profitability ratio, but since there is a choice, the code to compute both the gross margin ratio and the operating margin ratio**"
   ]
  },
  {
   "cell_type": "code",
   "execution_count": 13,
   "id": "3b9e59ad",
   "metadata": {},
   "outputs": [],
   "source": [
    "\"\"\"Compute gross margin ratio\"\"\"\n",
    "df_ratios[\"profitability_ratio\"] = (df_ratios[\"Total Revenue\"] - df_ratios[\"Cost Of Goods Sold\"])/df_ratios[\"Total Revenue\"]"
   ]
  },
  {
   "cell_type": "code",
   "execution_count": 14,
   "id": "f0baef89",
   "metadata": {},
   "outputs": [],
   "source": [
    "\"\"\"Compute operating margin ratio, but commenting it out\"\"\"\n",
    "df_ratios[\"profitability_ratio\"] = (df_ratios[\"Total Revenue\"] - df_ratios[\"Total Operating Expenses\"])/df_ratios[\"Total Revenue\"]"
   ]
  },
  {
   "cell_type": "markdown",
   "id": "08082545",
   "metadata": {},
   "source": [
    "**Need to compute one leverage ratio, but the code to compute both the debt-to-equity ratio and the equity multiplier ratio**"
   ]
  },
  {
   "cell_type": "code",
   "execution_count": 15,
   "id": "aa048269",
   "metadata": {},
   "outputs": [],
   "source": [
    "\"\"\"Compute debt-to-equity ratio\"\"\"\n",
    "df_ratios[\"leverage_ratio\"] = df_ratios[\"Total Liab\"]/df_ratios[\"Total Stockholder Equity\"]"
   ]
  },
  {
   "cell_type": "code",
   "execution_count": 16,
   "id": "4631a162",
   "metadata": {},
   "outputs": [],
   "source": [
    "\"\"\"Compute equity multiplier ratio, but commenting it out\"\"\"\n",
    "df_ratios[\"leverage_ratio\"] = df_ratios[\"Total Assets\"]/df_ratios[\"Total Stockholder Equity\"]"
   ]
  },
  {
   "cell_type": "code",
   "execution_count": 17,
   "id": "4da25c96",
   "metadata": {},
   "outputs": [
    {
     "name": "stdout",
     "output_type": "stream",
     "text": [
      "           profitability_ratio\n",
      "comp_type                     \n",
      "fmcg                  0.207112\n",
      "real_est              0.299938\n",
      "tech                  0.273889\n"
     ]
    }
   ],
   "source": [
    "\"\"\"Using pivot table to see the \"comp_type\" with the lowest average profitability ratio\"\"\"\n",
    "print(df_ratios.pivot_table(index=\"comp_type\", values=\"profitability_ratio\"))\n",
    "lowest_profitability = \"fmcg\""
   ]
  },
  {
   "cell_type": "code",
   "execution_count": 18,
   "id": "bf2f467b",
   "metadata": {},
   "outputs": [
    {
     "name": "stdout",
     "output_type": "stream",
     "text": [
      "           leverage_ratio\n",
      "comp_type                \n",
      "fmcg             4.049784\n",
      "real_est         7.353476\n",
      "tech             2.777448\n"
     ]
    }
   ],
   "source": [
    "\"\"\"Using pivot table to see the \"comp_type\" with the highest average leverage ratio\"\"\"\n",
    "print(df_ratios.pivot_table(index=\"comp_type\", values=\"leverage_ratio\"))\n",
    "highest_leverage = \"real_est\""
   ]
  },
  {
   "cell_type": "code",
   "execution_count": 19,
   "id": "0e385cd0",
   "metadata": {},
   "outputs": [
    {
     "data": {
      "image/png": "[encoded data removed]",
      "text/plain": [
       "<Figure size 640x480 with 1 Axes>"
      ]
     },
     "metadata": {},
     "output_type": "display_data"
    }
   ],
   "source": [
    "\"\"\"Plot the leverage ratio on x-axis and profitability on y axis to see if real estate companies \n",
    "   with higher leverage ratio have  higher profitability\"\"\"\n",
    "df_real_est = df_ratios.loc[df_ratios[\"comp_type\"]==\"real_est\"]\n",
    "plot = sns.regplot(data=df_real_est, x=\"leverage_ratio\", y=\"profitability_ratio\")\n",
    "relationship = \"positive\""
   ]
  },
  {
   "cell_type": "code",
   "execution_count": null,
   "id": "063f618a",
   "metadata": {},
   "outputs": [],
   "source": []
  }
 ],
 "metadata": {
  "kernelspec": {
   "display_name": "Python 3 (ipykernel)",
   "language": "python",
   "name": "python3"
  },
  "language_info": {
   "codemirror_mode": {
    "name": "ipython",
    "version": 3
   },
   "file_extension": ".py",
   "mimetype": "text/x-python",
   "name": "python",
   "nbconvert_exporter": "python",
   "pygments_lexer": "ipython3",
   "version": "3.11.3"
  }
 },
 "nbformat": 4,
 "nbformat_minor": 5
}
